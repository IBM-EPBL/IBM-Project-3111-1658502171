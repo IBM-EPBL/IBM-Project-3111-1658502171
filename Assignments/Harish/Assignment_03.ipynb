{
 "cells": [
  {
   "cell_type": "markdown",
   "id": "b7498d64",
   "metadata": {},
   "source": [
    "# BUILD CNN FOR IMAGE CLASSIFICATION"
   ]
  },
  {
   "cell_type": "markdown",
   "id": "c519e944",
   "metadata": {},
   "source": [
    "# Image Augumentation"
   ]
  },
  {
   "cell_type": "code",
   "execution_count": 24,
   "id": "cdc636b9",
   "metadata": {},
   "outputs": [],
   "source": [
    "from tensorflow.keras.preprocessing.image import ImageDataGenerator"
   ]
  },
  {
   "cell_type": "code",
   "execution_count": 25,
   "id": "ac56b45d",
   "metadata": {},
   "outputs": [],
   "source": [
    "train_datagen=ImageDataGenerator(rescale=1./255,zoom_range=0.2,horizontal_flip=True,vertical_flip=False)\n",
    "test_datagen = ImageDataGenerator(rescale=1./255)"
   ]
  },
  {
   "cell_type": "code",
   "execution_count": 26,
   "id": "e0a36a3d",
   "metadata": {},
   "outputs": [
    {
     "name": "stdout",
     "output_type": "stream",
     "text": [
      "Found 4317 images belonging to 5 classes.\n"
     ]
    }
   ],
   "source": [
    "x_train = train_datagen.flow_from_directory(r'Flowers-Dataset/flowers',target_size=(64,64),class_mode='categorical')"
   ]
  },
  {
   "cell_type": "code",
   "execution_count": 27,
   "id": "7374d228",
   "metadata": {},
   "outputs": [
    {
     "data": {
      "text/plain": [
       "{'daisy': 0, 'dandelion': 1, 'rose': 2, 'sunflower': 3, 'tulip': 4}"
      ]
     },
     "execution_count": 27,
     "metadata": {},
     "output_type": "execute_result"
    }
   ],
   "source": [
    "x_train.class_indices"
   ]
  },
  {
   "cell_type": "markdown",
   "id": "8909224c",
   "metadata": {},
   "source": [
    "# Creating Model"
   ]
  },
  {
   "cell_type": "code",
   "execution_count": 28,
   "id": "c362966d",
   "metadata": {},
   "outputs": [],
   "source": [
    "from tensorflow.keras.models import Sequential\n",
    "from tensorflow.keras.layers import Conv2D,MaxPooling2D,Dense,Flatten,Dropout"
   ]
  },
  {
   "cell_type": "code",
   "execution_count": 29,
   "id": "d83d3465",
   "metadata": {},
   "outputs": [],
   "source": [
    "model=Sequential()"
   ]
  },
  {
   "cell_type": "markdown",
   "id": "70d33593",
   "metadata": {},
   "source": [
    "# Add Layers (Convolution,MaxPooling,Flatten,Dense-(HiddenLayers),Output)"
   ]
  },
  {
   "cell_type": "code",
   "execution_count": 30,
   "id": "49ad803f",
   "metadata": {},
   "outputs": [],
   "source": [
    "model.add(Conv2D(32,(3,3),input_shape=(64,64,3))) # Convolution layer\n",
    "model.add(MaxPooling2D(pool_size=(2,2))) # Max pooling layer\n",
    "model.add(Conv2D(64,(3,3))) # Convolution layer\n",
    "model.add(MaxPooling2D(pool_size=(2,2)))\n",
    "model.add(Flatten()) # Flatten layer\n",
    "# Dense layers\n",
    "model.add(Dense(300,activation='relu')) # Hidden layer\n",
    "model.add(Dense(150,activation='relu')) # Hidden layer\n",
    "model.add(Dense(5,activation='softmax')) # Output layer"
   ]
  },
  {
   "cell_type": "code",
   "execution_count": 31,
   "id": "1517efff",
   "metadata": {},
   "outputs": [
    {
     "name": "stdout",
     "output_type": "stream",
     "text": [
      "Model: \"sequential_2\"\n",
      "_________________________________________________________________\n",
      " Layer (type)                Output Shape              Param #   \n",
      "=================================================================\n",
      " conv2d_4 (Conv2D)           (None, 62, 62, 32)        896       \n",
      "                                                                 \n",
      " max_pooling2d_4 (MaxPooling  (None, 31, 31, 32)       0         \n",
      " 2D)                                                             \n",
      "                                                                 \n",
      " conv2d_5 (Conv2D)           (None, 29, 29, 64)        18496     \n",
      "                                                                 \n",
      " max_pooling2d_5 (MaxPooling  (None, 14, 14, 64)       0         \n",
      " 2D)                                                             \n",
      "                                                                 \n",
      " flatten_2 (Flatten)         (None, 12544)             0         \n",
      "                                                                 \n",
      " dense_6 (Dense)             (None, 300)               3763500   \n",
      "                                                                 \n",
      " dense_7 (Dense)             (None, 150)               45150     \n",
      "                                                                 \n",
      " dense_8 (Dense)             (None, 5)                 755       \n",
      "                                                                 \n",
      "=================================================================\n",
      "Total params: 3,828,797\n",
      "Trainable params: 3,828,797\n",
      "Non-trainable params: 0\n",
      "_________________________________________________________________\n"
     ]
    }
   ],
   "source": [
    "model.summary()"
   ]
  },
  {
   "cell_type": "markdown",
   "id": "ba3ecb71",
   "metadata": {},
   "source": [
    "# Compile the Model"
   ]
  },
  {
   "cell_type": "code",
   "execution_count": 32,
   "id": "4385f7c9",
   "metadata": {},
   "outputs": [],
   "source": [
    "model.compile(optimizer='adam',loss='categorical_crossentropy',metrics=['accuracy'])"
   ]
  },
  {
   "cell_type": "code",
   "execution_count": 33,
   "id": "0096fbbb",
   "metadata": {},
   "outputs": [
    {
     "name": "stdout",
     "output_type": "stream",
     "text": [
      "Epoch 1/10\n",
      "135/135 [==============================] - 67s 486ms/step - loss: 1.2907 - accuracy: 0.4575\n",
      "Epoch 2/10\n",
      "135/135 [==============================] - 38s 280ms/step - loss: 1.0901 - accuracy: 0.5513\n",
      "Epoch 3/10\n",
      "135/135 [==============================] - 37s 276ms/step - loss: 0.9969 - accuracy: 0.5979\n",
      "Epoch 4/10\n",
      "135/135 [==============================] - 37s 276ms/step - loss: 0.9328 - accuracy: 0.6342\n",
      "Epoch 5/10\n",
      "135/135 [==============================] - 37s 277ms/step - loss: 0.8689 - accuracy: 0.6634\n",
      "Epoch 6/10\n",
      "135/135 [==============================] - 37s 276ms/step - loss: 0.7938 - accuracy: 0.6901\n",
      "Epoch 7/10\n",
      "135/135 [==============================] - 37s 276ms/step - loss: 0.7271 - accuracy: 0.7148\n",
      "Epoch 8/10\n",
      "135/135 [==============================] - 37s 277ms/step - loss: 0.6536 - accuracy: 0.7498\n",
      "Epoch 9/10\n",
      "135/135 [==============================] - 37s 277ms/step - loss: 0.5936 - accuracy: 0.7674\n",
      "Epoch 10/10\n",
      "135/135 [==============================] - 37s 277ms/step - loss: 0.5563 - accuracy: 0.7864\n"
     ]
    },
    {
     "data": {
      "text/plain": [
       "<keras.callbacks.History at 0x2789a7e11f0>"
      ]
     },
     "execution_count": 33,
     "metadata": {},
     "output_type": "execute_result"
    }
   ],
   "source": [
    "model.fit(x_train,\n",
    "          steps_per_epoch=len(x_train),\n",
    "          epochs=10)"
   ]
  },
  {
   "cell_type": "markdown",
   "id": "9b085790",
   "metadata": {},
   "source": [
    "# Saving the Model"
   ]
  },
  {
   "cell_type": "code",
   "execution_count": 34,
   "id": "19343fa9",
   "metadata": {},
   "outputs": [],
   "source": [
    "model.save('flowers.h5')"
   ]
  },
  {
   "cell_type": "markdown",
   "id": "b25e199e",
   "metadata": {},
   "source": [
    "# Testing Model"
   ]
  },
  {
   "cell_type": "code",
   "execution_count": 35,
   "id": "871a6b58",
   "metadata": {},
   "outputs": [],
   "source": [
    "import numpy as np\n",
    "from tensorflow.keras.models import load_model\n",
    "from tensorflow.keras.preprocessing import image\n",
    "\n",
    "model=load_model('flows.her5')"
   ]
  },
  {
   "cell_type": "code",
   "execution_count": 38,
   "id": "dd8cad3d",
   "metadata": {},
   "outputs": [
    {
     "data": {
      "image/png": "[encoded data removed]",
      "text/plain": [
       "<PIL.Image.Image image mode=RGB size=64x64>"
      ]
     },
     "execution_count": 38,
     "metadata": {},
     "output_type": "execute_result"
    }
   ],
   "source": [
    "img = image.load_img(r'Flowers-Dataset/flowers/test1.jpg',target_size=(64,64))\n",
    "img"
   ]
  },
  {
   "cell_type": "code",
   "execution_count": 39,
   "id": "f7e6c4e1",
   "metadata": {},
   "outputs": [
    {
     "name": "stdout",
     "output_type": "stream",
     "text": [
      "LABELS..: {'daisy': 0, 'dandelion': 1, 'rose': 2, 'sunflower': 3, 'tulip': 4}\n",
      "1/1 [==============================] - 0s 233ms/step\n",
      "PREDICTED VALUE: 0\n",
      "FLOWERS IS...:  daisy\n"
     ]
    }
   ],
   "source": [
    "print('LABELS..:',x_train.class_indices)\n",
    "x=image.img_to_array(img)\n",
    "x=np.expand_dims(x,axis=0)\n",
    "y=np.argmax(model.predict(x))\n",
    "print('PREDICTED VALUE:',y)\n",
    "index=['daisy','dandelion','rose','sunflower','tulip']\n",
    "print('FLOWERS IS...: ',index[y])"
   ]
  },
  {
   "cell_type": "code",
   "execution_count": 40,
   "id": "146298b0",
   "metadata": {},
   "outputs": [
    {
     "data": {
      "image/png": "[encoded data removed]",
      "text/plain": [
       "<PIL.Image.Image image mode=RGB size=64x64>"
      ]
     },
     "execution_count": 40,
     "metadata": {},
     "output_type": "execute_result"
    }
   ],
   "source": [
    "img = image.load_img(r'Flowers-Dataset/flowers/test2.jpg',target_size=(64,64))\n",
    "img"
   ]
  },
  {
   "cell_type": "code",
   "execution_count": 41,
   "id": "e033eba5",
   "metadata": {},
   "outputs": [
    {
     "name": "stdout",
     "output_type": "stream",
     "text": [
      "LABELS..: {'daisy': 0, 'dandelion': 1, 'rose': 2, 'sunflower': 3, 'tulip': 4}\n",
      "1/1 [==============================] - 0s 43ms/step\n",
      "PREDICTED VALUE: 1\n",
      "FLOWERS IS...:  dandelion\n"
     ]
    }
   ],
   "source": [
    "print('LABELS..:',x_train.class_indices)\n",
    "x=image.img_to_array(img)\n",
    "x=np.expand_dims(x,axis=0)\n",
    "y=np.argmax(model.predict(x))\n",
    "print('PREDICTED VALUE:',y)\n",
    "index=['daisy','dandelion','rose','sunflower','tulip']\n",
    "print('FLOWERS IS...: ',index[y])"
   ]
  },
  {
   "cell_type": "code",
   "execution_count": 51,
   "id": "fd62fcc2",
   "metadata": {},
   "outputs": [
    {
     "data": {
      "image/png": "[encoded data removed]",
      "text/plain": [
       "<PIL.Image.Image image mode=RGB size=64x64>"
      ]
     },
     "execution_count": 51,
     "metadata": {},
     "output_type": "execute_result"
    }
   ],
   "source": [
    "img = image.load_img(r'Flowers-Dataset/flowers/test3.jpg',target_size=(64,64))\n",
    "img"
   ]
  },
  {
   "cell_type": "code",
   "execution_count": 52,
   "id": "ca3a1c6a",
   "metadata": {},
   "outputs": [
    {
     "name": "stdout",
     "output_type": "stream",
     "text": [
      "LABELS..: {'daisy': 0, 'dandelion': 1, 'rose': 2, 'sunflower': 3, 'tulip': 4}\n",
      "1/1 [==============================] - 0s 52ms/step\n",
      "PREDICTED VALUE: 2\n",
      "FLOWERS IS...:  rose\n"
     ]
    }
   ],
   "source": [
    "print('LABELS..:',x_train.class_indices)\n",
    "x=image.img_to_array(img)\n",
    "x=np.expand_dims(x,axis=0)\n",
    "y=np.argmax(model.predict(x))\n",
    "print('PREDICTED VALUE:',y)\n",
    "index=['daisy','dandelion','rose','sunflower','tulip']\n",
    "print('FLOWERS IS...: ',index[y])"
   ]
  },
  {
   "cell_type": "code",
   "execution_count": 53,
   "id": "04f06a74",
   "metadata": {},
   "outputs": [
    {
     "data": {
      "image/png": "[encoded data removed]",
      "text/plain": [
       "<PIL.Image.Image image mode=RGB size=64x64>"
      ]
     },
     "execution_count": 53,
     "metadata": {},
     "output_type": "execute_result"
    }
   ],
   "source": [
    "img = image.load_img(r'Flowers-Dataset/flowers/test4.jpg',target_size=(64,64))\n",
    "img"
   ]
  },
  {
   "cell_type": "code",
   "execution_count": 54,
   "id": "83848ecd",
   "metadata": {},
   "outputs": [
    {
     "name": "stdout",
     "output_type": "stream",
     "text": [
      "LABELS..: {'daisy': 0, 'dandelion': 1, 'rose': 2, 'sunflower': 3, 'tulip': 4}\n",
      "1/1 [==============================] - 0s 49ms/step\n",
      "PREDICTED VALUE: 3\n",
      "FLOWERS IS...:  sunflower\n"
     ]
    }
   ],
   "source": [
    "print('LABELS..:',x_train.class_indices)\n",
    "x=image.img_to_array(img)\n",
    "x=np.expand_dims(x,axis=0)\n",
    "y=np.argmax(model.predict(x))\n",
    "print('PREDICTED VALUE:',y)\n",
    "index=['daisy','dandelion','rose','sunflower','tulip']\n",
    "print('FLOWERS IS...: ',index[y])"
   ]
  },
  {
   "cell_type": "code",
   "execution_count": 55,
   "id": "c972ef4c",
   "metadata": {},
   "outputs": [
    {
     "data": {
      "image/png": "[encoded data removed]",
      "text/plain": [
       "<PIL.Image.Image image mode=RGB size=64x64>"
      ]
     },
     "execution_count": 55,
     "metadata": {},
     "output_type": "execute_result"
    }
   ],
   "source": [
    "img = image.load_img(r'Flowers-Dataset/flowers/test5.jpg',target_size=(64,64))\n",
    "img"
   ]
  },
  {
   "cell_type": "code",
   "execution_count": 56,
   "id": "3dfa2ddf",
   "metadata": {},
   "outputs": [
    {
     "name": "stdout",
     "output_type": "stream",
     "text": [
      "LABELS..: {'daisy': 0, 'dandelion': 1, 'rose': 2, 'sunflower': 3, 'tulip': 4}\n",
      "1/1 [==============================] - 0s 55ms/step\n",
      "PREDICTED VALUE: 4\n",
      "FLOWERS IS...:  tulip\n"
     ]
    }
   ],
   "source": [
    "print('LABELS..:',x_train.class_indices)\n",
    "x=image.img_to_array(img)\n",
    "x=np.expand_dims(x,axis=0)\n",
    "y=np.argmax(model.predict(x))\n",
    "print('PREDICTED VALUE:',y)\n",
    "index=['daisy','dandelion','rose','sunflower','tulip']\n",
    "print('FLOWERS IS...: ',index[y])"
   ]
  },
  {
   "cell_type": "code",
   "execution_count": null,
   "id": "c6dd1a57",
   "metadata": {},
   "outputs": [],
   "source": []
  }
 ],
 "metadata": {
  "kernelspec": {
   "display_name": "Python 3 (ipykernel)",
   "language": "python",
   "name": "python3"
  },
  "language_info": {
   "codemirror_mode": {
    "name": "ipython",
    "version": 3
   },
   "file_extension": ".py",
   "mimetype": "text/x-python",
   "name": "python",
   "nbconvert_exporter": "python",
   "pygments_lexer": "ipython3",
   "version": "3.9.13"
  }
 },
 "nbformat": 4,
 "nbformat_minor": 5
}
