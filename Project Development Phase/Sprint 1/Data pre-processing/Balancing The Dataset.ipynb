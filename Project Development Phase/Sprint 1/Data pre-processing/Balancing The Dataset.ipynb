{
  "metadata": {
    "kernelspec": {
      "name": "python",
      "display_name": "Python (Pyodide)",
      "language": "python"
    },
    "language_info": {
      "codemirror_mode": {
        "name": "python",
        "version": 3
      },
      "file_extension": ".py",
      "mimetype": "text/x-python",
      "name": "python",
      "nbconvert_exporter": "python",
      "pygments_lexer": "ipython3",
      "version": "3.8"
    }
  },
  "nbformat_minor": 5,
  "nbformat": 4,
  "cells": [
    {
      "cell_type": "markdown",
      "source": "# Balancing The Dataset",
      "metadata": {},
      "id": "6be477a6"
    },
    {
      "cell_type": "markdown",
      "source": "The dataset is already download in .csv format",
      "metadata": {},
      "id": "bcf23c78"
    },
    {
      "cell_type": "markdown",
      "source": "# IMPORTING THE PACKAGE",
      "metadata": {},
      "id": "b820445b"
    },
    {
      "cell_type": "code",
      "source": "import numpy as np \nimport pandas as pd\n\nimport warnings\nwarnings.filterwarnings('ignore')",
      "metadata": {},
      "execution_count": 1,
      "outputs": [],
      "id": "5251cb35"
    },
    {
      "cell_type": "markdown",
      "source": "# Load the dataset",
      "metadata": {},
      "id": "08403814"
    },
    {
      "cell_type": "code",
      "source": "df=pd.read_csv(\"C:\\loan_prediction.csv\")",
      "metadata": {},
      "execution_count": 2,
      "outputs": [],
      "id": "aa73c1d1"
    },
    {
      "cell_type": "code",
      "source": "df",
      "metadata": {},
      "execution_count": 3,
      "outputs": [
        {
          "execution_count": 3,
          "output_type": "execute_result",
          "data": {
            "text/html": [
              "<div>\n",
              "<style scoped>\n",
              "    .dataframe tbody tr th:only-of-type {\n",
              "        vertical-align: middle;\n",
              "    }\n",
              "\n",
              "    .dataframe tbody tr th {\n",
              "        vertical-align: top;\n",
              "    }\n",
              "\n",
              "    .dataframe thead th {\n",
              "        text-align: right;\n",
              "    }\n",
              "</style>\n",
              "<table border=\"1\" class=\"dataframe\">\n",
              "  <thead>\n",
              "    <tr style=\"text-align: right;\">\n",
              "      <th></th>\n",
              "      <th>Loan_ID</th>\n",
              "      <th>Gender</th>\n",
              "      <th>Married</th>\n",
              "      <th>Dependents</th>\n",
              "      <th>Education</th>\n",
              "      <th>Self_Employed</th>\n",
              "      <th>ApplicantIncome</th>\n",
              "      <th>CoapplicantIncome</th>\n",
              "      <th>LoanAmount</th>\n",
              "      <th>Loan_Amount_Term</th>\n",
              "      <th>Credit_History</th>\n",
              "      <th>Property_Area</th>\n",
              "      <th>Loan_Status</th>\n",
              "    </tr>\n",
              "  </thead>\n",
              "  <tbody>\n",
              "    <tr>\n",
              "      <th>0</th>\n",
              "      <td>LP001002</td>\n",
              "      <td>Male</td>\n",
              "      <td>No</td>\n",
              "      <td>0</td>\n",
              "      <td>Graduate</td>\n",
              "      <td>No</td>\n",
              "      <td>5849</td>\n",
              "      <td>0.0</td>\n",
              "      <td>NaN</td>\n",
              "      <td>360.0</td>\n",
              "      <td>1.0</td>\n",
              "      <td>Urban</td>\n",
              "      <td>Y</td>\n",
              "    </tr>\n",
              "    <tr>\n",
              "      <th>1</th>\n",
              "      <td>LP001003</td>\n",
              "      <td>Male</td>\n",
              "      <td>Yes</td>\n",
              "      <td>1</td>\n",
              "      <td>Graduate</td>\n",
              "      <td>No</td>\n",
              "      <td>4583</td>\n",
              "      <td>1508.0</td>\n",
              "      <td>128.0</td>\n",
              "      <td>360.0</td>\n",
              "      <td>1.0</td>\n",
              "      <td>Rural</td>\n",
              "      <td>N</td>\n",
              "    </tr>\n",
              "    <tr>\n",
              "      <th>2</th>\n",
              "      <td>LP001005</td>\n",
              "      <td>Male</td>\n",
              "      <td>Yes</td>\n",
              "      <td>0</td>\n",
              "      <td>Graduate</td>\n",
              "      <td>Yes</td>\n",
              "      <td>3000</td>\n",
              "      <td>0.0</td>\n",
              "      <td>66.0</td>\n",
              "      <td>360.0</td>\n",
              "      <td>1.0</td>\n",
              "      <td>Urban</td>\n",
              "      <td>Y</td>\n",
              "    </tr>\n",
              "    <tr>\n",
              "      <th>3</th>\n",
              "      <td>LP001006</td>\n",
              "      <td>Male</td>\n",
              "      <td>Yes</td>\n",
              "      <td>0</td>\n",
              "      <td>Not Graduate</td>\n",
              "      <td>No</td>\n",
              "      <td>2583</td>\n",
              "      <td>2358.0</td>\n",
              "      <td>120.0</td>\n",
              "      <td>360.0</td>\n",
              "      <td>1.0</td>\n",
              "      <td>Urban</td>\n",
              "      <td>Y</td>\n",
              "    </tr>\n",
              "    <tr>\n",
              "      <th>4</th>\n",
              "      <td>LP001008</td>\n",
              "      <td>Male</td>\n",
              "      <td>No</td>\n",
              "      <td>0</td>\n",
              "      <td>Graduate</td>\n",
              "      <td>No</td>\n",
              "      <td>6000</td>\n",
              "      <td>0.0</td>\n",
              "      <td>141.0</td>\n",
              "      <td>360.0</td>\n",
              "      <td>1.0</td>\n",
              "      <td>Urban</td>\n",
              "      <td>Y</td>\n",
              "    </tr>\n",
              "    <tr>\n",
              "      <th>...</th>\n",
              "      <td>...</td>\n",
              "      <td>...</td>\n",
              "      <td>...</td>\n",
              "      <td>...</td>\n",
              "      <td>...</td>\n",
              "      <td>...</td>\n",
              "      <td>...</td>\n",
              "      <td>...</td>\n",
              "      <td>...</td>\n",
              "      <td>...</td>\n",
              "      <td>...</td>\n",
              "      <td>...</td>\n",
              "      <td>...</td>\n",
              "    </tr>\n",
              "    <tr>\n",
              "      <th>609</th>\n",
              "      <td>LP002978</td>\n",
              "      <td>Female</td>\n",
              "      <td>No</td>\n",
              "      <td>0</td>\n",
              "      <td>Graduate</td>\n",
              "      <td>No</td>\n",
              "      <td>2900</td>\n",
              "      <td>0.0</td>\n",
              "      <td>71.0</td>\n",
              "      <td>360.0</td>\n",
              "      <td>1.0</td>\n",
              "      <td>Rural</td>\n",
              "      <td>Y</td>\n",
              "    </tr>\n",
              "    <tr>\n",
              "      <th>610</th>\n",
              "      <td>LP002979</td>\n",
              "      <td>Male</td>\n",
              "      <td>Yes</td>\n",
              "      <td>3+</td>\n",
              "      <td>Graduate</td>\n",
              "      <td>No</td>\n",
              "      <td>4106</td>\n",
              "      <td>0.0</td>\n",
              "      <td>40.0</td>\n",
              "      <td>180.0</td>\n",
              "      <td>1.0</td>\n",
              "      <td>Rural</td>\n",
              "      <td>Y</td>\n",
              "    </tr>\n",
              "    <tr>\n",
              "      <th>611</th>\n",
              "      <td>LP002983</td>\n",
              "      <td>Male</td>\n",
              "      <td>Yes</td>\n",
              "      <td>1</td>\n",
              "      <td>Graduate</td>\n",
              "      <td>No</td>\n",
              "      <td>8072</td>\n",
              "      <td>240.0</td>\n",
              "      <td>253.0</td>\n",
              "      <td>360.0</td>\n",
              "      <td>1.0</td>\n",
              "      <td>Urban</td>\n",
              "      <td>Y</td>\n",
              "    </tr>\n",
              "    <tr>\n",
              "      <th>612</th>\n",
              "      <td>LP002984</td>\n",
              "      <td>Male</td>\n",
              "      <td>Yes</td>\n",
              "      <td>2</td>\n",
              "      <td>Graduate</td>\n",
              "      <td>No</td>\n",
              "      <td>7583</td>\n",
              "      <td>0.0</td>\n",
              "      <td>187.0</td>\n",
              "      <td>360.0</td>\n",
              "      <td>1.0</td>\n",
              "      <td>Urban</td>\n",
              "      <td>Y</td>\n",
              "    </tr>\n",
              "    <tr>\n",
              "      <th>613</th>\n",
              "      <td>LP002990</td>\n",
              "      <td>Female</td>\n",
              "      <td>No</td>\n",
              "      <td>0</td>\n",
              "      <td>Graduate</td>\n",
              "      <td>Yes</td>\n",
              "      <td>4583</td>\n",
              "      <td>0.0</td>\n",
              "      <td>133.0</td>\n",
              "      <td>360.0</td>\n",
              "      <td>0.0</td>\n",
              "      <td>Semiurban</td>\n",
              "      <td>N</td>\n",
              "    </tr>\n",
              "  </tbody>\n",
              "</table>\n",
              "<p>614 rows × 13 columns</p>\n",
              "</div>"
            ],
            "text/plain": [
              "      Loan_ID  Gender Married Dependents     Education Self_Employed  \\\n",
              "0    LP001002    Male      No          0      Graduate            No   \n",
              "1    LP001003    Male     Yes          1      Graduate            No   \n",
              "2    LP001005    Male     Yes          0      Graduate           Yes   \n",
              "3    LP001006    Male     Yes          0  Not Graduate            No   \n",
              "4    LP001008    Male      No          0      Graduate            No   \n",
              "..        ...     ...     ...        ...           ...           ...   \n",
              "609  LP002978  Female      No          0      Graduate            No   \n",
              "610  LP002979    Male     Yes         3+      Graduate            No   \n",
              "611  LP002983    Male     Yes          1      Graduate            No   \n",
              "612  LP002984    Male     Yes          2      Graduate            No   \n",
              "613  LP002990  Female      No          0      Graduate           Yes   \n",
              "\n",
              "     ApplicantIncome  CoapplicantIncome  LoanAmount  Loan_Amount_Term  \\\n",
              "0               5849                0.0         NaN             360.0   \n",
              "1               4583             1508.0       128.0             360.0   \n",
              "2               3000                0.0        66.0             360.0   \n",
              "3               2583             2358.0       120.0             360.0   \n",
              "4               6000                0.0       141.0             360.0   \n",
              "..               ...                ...         ...               ...   \n",
              "609             2900                0.0        71.0             360.0   \n",
              "610             4106                0.0        40.0             180.0   \n",
              "611             8072              240.0       253.0             360.0   \n",
              "612             7583                0.0       187.0             360.0   \n",
              "613             4583                0.0       133.0             360.0   \n",
              "\n",
              "     Credit_History Property_Area Loan_Status  \n",
              "0               1.0         Urban           Y  \n",
              "1               1.0         Rural           N  \n",
              "2               1.0         Urban           Y  \n",
              "3               1.0         Urban           Y  \n",
              "4               1.0         Urban           Y  \n",
              "..              ...           ...         ...  \n",
              "609             1.0         Rural           Y  \n",
              "610             1.0         Rural           Y  \n",
              "611             1.0         Urban           Y  \n",
              "612             1.0         Urban           Y  \n",
              "613             0.0     Semiurban           N  \n",
              "\n",
              "[614 rows x 13 columns]"
            ]
          },
          "metadata": {}
        }
      ],
      "id": "caa77d47"
    },
    {
      "cell_type": "code",
      "source": "df.shape",
      "metadata": {},
      "execution_count": 4,
      "outputs": [
        {
          "execution_count": 4,
          "output_type": "execute_result",
          "data": {
            "text/plain": [
              "(614, 13)"
            ]
          },
          "metadata": {}
        }
      ],
      "id": "cc362c32"
    },
    {
      "cell_type": "markdown",
      "source": "# Handle the Missing values",
      "metadata": {},
      "id": "11d83c6d"
    },
    {
      "cell_type": "code",
      "source": "#checking the null values\ndf.isnull().sum()",
      "metadata": {},
      "execution_count": 5,
      "outputs": [
        {
          "execution_count": 5,
          "output_type": "execute_result",
          "data": {
            "text/plain": [
              "Loan_ID               0\n",
              "Gender               13\n",
              "Married               3\n",
              "Dependents           15\n",
              "Education             0\n",
              "Self_Employed        32\n",
              "ApplicantIncome       0\n",
              "CoapplicantIncome     0\n",
              "LoanAmount           22\n",
              "Loan_Amount_Term     14\n",
              "Credit_History       50\n",
              "Property_Area         0\n",
              "Loan_Status           0\n",
              "dtype: int64"
            ]
          },
          "metadata": {}
        }
      ],
      "id": "2ffae538"
    },
    {
      "cell_type": "markdown",
      "source": "# Treating the Null Value",
      "metadata": {},
      "id": "e0aa9559"
    },
    {
      "cell_type": "markdown",
      "source": "We will fill the missing values in numeric data type using the mean value of that particular column and categorical data type using the most repeated value",
      "metadata": {},
      "id": "b33d1d74"
    },
    {
      "cell_type": "code",
      "source": "numerical_features = df.select_dtypes(include = [np.number]).columns\ncategorical_features = df.select_dtypes(include = [np.object]).columns",
      "metadata": {},
      "execution_count": 6,
      "outputs": [],
      "id": "7c53fbf1"
    },
    {
      "cell_type": "code",
      "source": "numerical_features",
      "metadata": {},
      "execution_count": 7,
      "outputs": [
        {
          "execution_count": 7,
          "output_type": "execute_result",
          "data": {
            "text/plain": [
              "Index(['ApplicantIncome', 'CoapplicantIncome', 'LoanAmount',\n",
              "       'Loan_Amount_Term', 'Credit_History'],\n",
              "      dtype='object')"
            ]
          },
          "metadata": {}
        }
      ],
      "id": "c829ef67"
    },
    {
      "cell_type": "code",
      "source": "categorical_features",
      "metadata": {},
      "execution_count": 8,
      "outputs": [
        {
          "execution_count": 8,
          "output_type": "execute_result",
          "data": {
            "text/plain": [
              "Index(['Loan_ID', 'Gender', 'Married', 'Dependents', 'Education',\n",
              "       'Self_Employed', 'Property_Area', 'Loan_Status'],\n",
              "      dtype='object')"
            ]
          },
          "metadata": {}
        }
      ],
      "id": "2bb41099"
    },
    {
      "cell_type": "code",
      "source": "df['Gender'] = df['Gender'].fillna(df['Gender'].mode()[0])",
      "metadata": {},
      "execution_count": 9,
      "outputs": [],
      "id": "f451282d"
    },
    {
      "cell_type": "code",
      "source": "df['Married'] = df['Married'].fillna(df['Married'].mode()[0])",
      "metadata": {},
      "execution_count": 10,
      "outputs": [],
      "id": "27b766d5"
    },
    {
      "cell_type": "code",
      "source": "#replace + with non value \ndf['Dependents'] = df['Dependents'].str.replace('+','')",
      "metadata": {},
      "execution_count": 11,
      "outputs": [],
      "id": "7409fb42"
    },
    {
      "cell_type": "code",
      "source": "df['Dependents'] = df['Dependents'].fillna(df['Dependents'].mode()[0])",
      "metadata": {},
      "execution_count": 12,
      "outputs": [],
      "id": "d43f6616"
    },
    {
      "cell_type": "code",
      "source": "df['Self_Employed'] = df['Self_Employed'].fillna(df['Self_Employed'].mode()[0])",
      "metadata": {},
      "execution_count": 13,
      "outputs": [],
      "id": "755fede5"
    },
    {
      "cell_type": "code",
      "source": "df['LoanAmount'] = df['LoanAmount'].fillna(df['LoanAmount'].mode()[0])",
      "metadata": {},
      "execution_count": 14,
      "outputs": [],
      "id": "d1aa2780"
    },
    {
      "cell_type": "code",
      "source": "df['Loan_Amount_Term'] = df['Loan_Amount_Term'].fillna(df['Loan_Amount_Term'].mode()[0])",
      "metadata": {},
      "execution_count": 15,
      "outputs": [],
      "id": "e45ae169"
    },
    {
      "cell_type": "code",
      "source": "df['Credit_History'] = df['Credit_History'].fillna(df['Credit_History'].mode()[0])",
      "metadata": {},
      "execution_count": 16,
      "outputs": [],
      "id": "aa2d60af"
    },
    {
      "cell_type": "code",
      "source": "#checking the null values now\ndf.isnull().sum()",
      "metadata": {},
      "execution_count": 17,
      "outputs": [
        {
          "execution_count": 17,
          "output_type": "execute_result",
          "data": {
            "text/plain": [
              "Loan_ID              0\n",
              "Gender               0\n",
              "Married              0\n",
              "Dependents           0\n",
              "Education            0\n",
              "Self_Employed        0\n",
              "ApplicantIncome      0\n",
              "CoapplicantIncome    0\n",
              "LoanAmount           0\n",
              "Loan_Amount_Term     0\n",
              "Credit_History       0\n",
              "Property_Area        0\n",
              "Loan_Status          0\n",
              "dtype: int64"
            ]
          },
          "metadata": {}
        }
      ],
      "id": "a37f0290"
    },
    {
      "cell_type": "markdown",
      "source": "Now the null value is retreated",
      "metadata": {},
      "id": "bdbc6e7a"
    },
    {
      "cell_type": "markdown",
      "source": "# Handling Categorical Values",
      "metadata": {},
      "id": "601ba9d6"
    },
    {
      "cell_type": "code",
      "source": "df.select_dtypes(include='object').columns",
      "metadata": {},
      "execution_count": 18,
      "outputs": [
        {
          "execution_count": 18,
          "output_type": "execute_result",
          "data": {
            "text/plain": [
              "Index(['Loan_ID', 'Gender', 'Married', 'Dependents', 'Education',\n",
              "       'Self_Employed', 'Property_Area', 'Loan_Status'],\n",
              "      dtype='object')"
            ]
          },
          "metadata": {}
        }
      ],
      "id": "d11c72ab"
    },
    {
      "cell_type": "code",
      "source": "df['Gender'].unique()",
      "metadata": {},
      "execution_count": 19,
      "outputs": [
        {
          "execution_count": 19,
          "output_type": "execute_result",
          "data": {
            "text/plain": [
              "array(['Male', 'Female'], dtype=object)"
            ]
          },
          "metadata": {}
        }
      ],
      "id": "6af5c7a7"
    },
    {
      "cell_type": "code",
      "source": "df['Gender'].replace({'Male':1,'Female':0},inplace=True)",
      "metadata": {},
      "execution_count": 20,
      "outputs": [],
      "id": "c784e756"
    },
    {
      "cell_type": "code",
      "source": "df['Married'].unique()",
      "metadata": {},
      "execution_count": 21,
      "outputs": [
        {
          "execution_count": 21,
          "output_type": "execute_result",
          "data": {
            "text/plain": [
              "array(['No', 'Yes'], dtype=object)"
            ]
          },
          "metadata": {}
        }
      ],
      "id": "6cd87d2a"
    },
    {
      "cell_type": "code",
      "source": "df['Married'].replace({'Yes':1,'No':0},inplace=True)",
      "metadata": {},
      "execution_count": 22,
      "outputs": [],
      "id": "55f88e4c"
    },
    {
      "cell_type": "code",
      "source": "df['Dependents'].unique()",
      "metadata": {},
      "execution_count": 23,
      "outputs": [
        {
          "execution_count": 23,
          "output_type": "execute_result",
          "data": {
            "text/plain": [
              "array(['0', '1', '2', '3'], dtype=object)"
            ]
          },
          "metadata": {}
        }
      ],
      "id": "181b4060"
    },
    {
      "cell_type": "code",
      "source": "df['Dependents'].replace({'0':0,'1':1,'2':2,'3':3},inplace=True)",
      "metadata": {},
      "execution_count": 24,
      "outputs": [],
      "id": "0aeb2c9d"
    },
    {
      "cell_type": "code",
      "source": "df['Self_Employed'].unique()",
      "metadata": {},
      "execution_count": 25,
      "outputs": [
        {
          "execution_count": 25,
          "output_type": "execute_result",
          "data": {
            "text/plain": [
              "array(['No', 'Yes'], dtype=object)"
            ]
          },
          "metadata": {}
        }
      ],
      "id": "b9f0e499"
    },
    {
      "cell_type": "code",
      "source": "df['Self_Employed'].replace({'Yes':1,'No':0},inplace=True)",
      "metadata": {},
      "execution_count": 26,
      "outputs": [],
      "id": "6708468c"
    },
    {
      "cell_type": "code",
      "source": "df['Property_Area'].unique()",
      "metadata": {},
      "execution_count": 27,
      "outputs": [
        {
          "execution_count": 27,
          "output_type": "execute_result",
          "data": {
            "text/plain": [
              "array(['Urban', 'Rural', 'Semiurban'], dtype=object)"
            ]
          },
          "metadata": {}
        }
      ],
      "id": "d3f1cc28"
    },
    {
      "cell_type": "code",
      "source": "df['Property_Area'].replace({'Urban':2,'Rural':0,'Semiurban':1},inplace=True)",
      "metadata": {},
      "execution_count": 28,
      "outputs": [],
      "id": "da5f929b"
    },
    {
      "cell_type": "code",
      "source": "df['Loan_Status'].unique()",
      "metadata": {},
      "execution_count": 29,
      "outputs": [
        {
          "execution_count": 29,
          "output_type": "execute_result",
          "data": {
            "text/plain": [
              "array(['Y', 'N'], dtype=object)"
            ]
          },
          "metadata": {}
        }
      ],
      "id": "27347afc"
    },
    {
      "cell_type": "code",
      "source": "df['Loan_Status'].replace({'Y':1,'N':0},inplace=True)",
      "metadata": {},
      "execution_count": 30,
      "outputs": [],
      "id": "037456ae"
    },
    {
      "cell_type": "code",
      "source": "df['Education'].unique()",
      "metadata": {},
      "execution_count": 31,
      "outputs": [
        {
          "execution_count": 31,
          "output_type": "execute_result",
          "data": {
            "text/plain": [
              "array(['Graduate', 'Not Graduate'], dtype=object)"
            ]
          },
          "metadata": {}
        }
      ],
      "id": "7bf50c1d"
    },
    {
      "cell_type": "code",
      "source": "df['Education'].replace({'Graduate':1,'Not Graduate':0},inplace=True)",
      "metadata": {},
      "execution_count": 32,
      "outputs": [],
      "id": "1f353c35"
    },
    {
      "cell_type": "code",
      "source": "df['CoapplicantIncome']=df['CoapplicantIncome'].astype(\"int64\")\ndf['LoanAmount']=df['LoanAmount'].astype(\"int64\")\ndf['Loan_Amount_Term']=df['Loan_Amount_Term'].astype(\"int64\")\ndf['Credit_History']=df['Credit_History'].astype(\"int64\")",
      "metadata": {},
      "execution_count": 33,
      "outputs": [],
      "id": "ba00c99e"
    },
    {
      "cell_type": "code",
      "source": "# dummy columns are created for the categories in Loan_ID\nfrom sklearn.preprocessing import LabelEncoder\nle = LabelEncoder()\ndf['Loan_ID'] = le.fit_transform(df.Loan_ID)",
      "metadata": {},
      "execution_count": 34,
      "outputs": [],
      "id": "b5531cb0"
    },
    {
      "cell_type": "code",
      "source": "df.head()",
      "metadata": {},
      "execution_count": 35,
      "outputs": [
        {
          "execution_count": 35,
          "output_type": "execute_result",
          "data": {
            "text/html": [
              "<div>\n",
              "<style scoped>\n",
              "    .dataframe tbody tr th:only-of-type {\n",
              "        vertical-align: middle;\n",
              "    }\n",
              "\n",
              "    .dataframe tbody tr th {\n",
              "        vertical-align: top;\n",
              "    }\n",
              "\n",
              "    .dataframe thead th {\n",
              "        text-align: right;\n",
              "    }\n",
              "</style>\n",
              "<table border=\"1\" class=\"dataframe\">\n",
              "  <thead>\n",
              "    <tr style=\"text-align: right;\">\n",
              "      <th></th>\n",
              "      <th>Loan_ID</th>\n",
              "      <th>Gender</th>\n",
              "      <th>Married</th>\n",
              "      <th>Dependents</th>\n",
              "      <th>Education</th>\n",
              "      <th>Self_Employed</th>\n",
              "      <th>ApplicantIncome</th>\n",
              "      <th>CoapplicantIncome</th>\n",
              "      <th>LoanAmount</th>\n",
              "      <th>Loan_Amount_Term</th>\n",
              "      <th>Credit_History</th>\n",
              "      <th>Property_Area</th>\n",
              "      <th>Loan_Status</th>\n",
              "    </tr>\n",
              "  </thead>\n",
              "  <tbody>\n",
              "    <tr>\n",
              "      <th>0</th>\n",
              "      <td>0</td>\n",
              "      <td>1</td>\n",
              "      <td>0</td>\n",
              "      <td>0</td>\n",
              "      <td>1</td>\n",
              "      <td>0</td>\n",
              "      <td>5849</td>\n",
              "      <td>0</td>\n",
              "      <td>120</td>\n",
              "      <td>360</td>\n",
              "      <td>1</td>\n",
              "      <td>2</td>\n",
              "      <td>1</td>\n",
              "    </tr>\n",
              "    <tr>\n",
              "      <th>1</th>\n",
              "      <td>1</td>\n",
              "      <td>1</td>\n",
              "      <td>1</td>\n",
              "      <td>1</td>\n",
              "      <td>1</td>\n",
              "      <td>0</td>\n",
              "      <td>4583</td>\n",
              "      <td>1508</td>\n",
              "      <td>128</td>\n",
              "      <td>360</td>\n",
              "      <td>1</td>\n",
              "      <td>0</td>\n",
              "      <td>0</td>\n",
              "    </tr>\n",
              "    <tr>\n",
              "      <th>2</th>\n",
              "      <td>2</td>\n",
              "      <td>1</td>\n",
              "      <td>1</td>\n",
              "      <td>0</td>\n",
              "      <td>1</td>\n",
              "      <td>1</td>\n",
              "      <td>3000</td>\n",
              "      <td>0</td>\n",
              "      <td>66</td>\n",
              "      <td>360</td>\n",
              "      <td>1</td>\n",
              "      <td>2</td>\n",
              "      <td>1</td>\n",
              "    </tr>\n",
              "    <tr>\n",
              "      <th>3</th>\n",
              "      <td>3</td>\n",
              "      <td>1</td>\n",
              "      <td>1</td>\n",
              "      <td>0</td>\n",
              "      <td>0</td>\n",
              "      <td>0</td>\n",
              "      <td>2583</td>\n",
              "      <td>2358</td>\n",
              "      <td>120</td>\n",
              "      <td>360</td>\n",
              "      <td>1</td>\n",
              "      <td>2</td>\n",
              "      <td>1</td>\n",
              "    </tr>\n",
              "    <tr>\n",
              "      <th>4</th>\n",
              "      <td>4</td>\n",
              "      <td>1</td>\n",
              "      <td>0</td>\n",
              "      <td>0</td>\n",
              "      <td>1</td>\n",
              "      <td>0</td>\n",
              "      <td>6000</td>\n",
              "      <td>0</td>\n",
              "      <td>141</td>\n",
              "      <td>360</td>\n",
              "      <td>1</td>\n",
              "      <td>2</td>\n",
              "      <td>1</td>\n",
              "    </tr>\n",
              "  </tbody>\n",
              "</table>\n",
              "</div>"
            ],
            "text/plain": [
              "   Loan_ID  Gender  Married  Dependents  Education  Self_Employed  \\\n",
              "0        0       1        0           0          1              0   \n",
              "1        1       1        1           1          1              0   \n",
              "2        2       1        1           0          1              1   \n",
              "3        3       1        1           0          0              0   \n",
              "4        4       1        0           0          1              0   \n",
              "\n",
              "   ApplicantIncome  CoapplicantIncome  LoanAmount  Loan_Amount_Term  \\\n",
              "0             5849                  0         120               360   \n",
              "1             4583               1508         128               360   \n",
              "2             3000                  0          66               360   \n",
              "3             2583               2358         120               360   \n",
              "4             6000                  0         141               360   \n",
              "\n",
              "   Credit_History  Property_Area  Loan_Status  \n",
              "0               1              2            1  \n",
              "1               1              0            0  \n",
              "2               1              2            1  \n",
              "3               1              2            1  \n",
              "4               1              2            1  "
            ]
          },
          "metadata": {}
        }
      ],
      "id": "0938ade3"
    },
    {
      "cell_type": "markdown",
      "source": "# Balancing The Dataset",
      "metadata": {},
      "id": "1f14ada0"
    },
    {
      "cell_type": "code",
      "source": "from imblearn.combine import SMOTETomek",
      "metadata": {},
      "execution_count": 36,
      "outputs": [],
      "id": "e83c104f"
    },
    {
      "cell_type": "code",
      "source": "smote = SMOTETomek(0.90)",
      "metadata": {},
      "execution_count": 37,
      "outputs": [],
      "id": "dd4c9f15"
    },
    {
      "cell_type": "code",
      "source": "#dividing the dataset into dependent and independent y and x respectively\n\ny = df['Loan_Status']\nx = df.drop(columns=['Loan_Status'],axis=1)",
      "metadata": {},
      "execution_count": 38,
      "outputs": [],
      "id": "697c0b90"
    },
    {
      "cell_type": "code",
      "source": "#creating the new x and y for balance data\nx_bal,y_bal = smote.fit_resample(x,y)",
      "metadata": {},
      "execution_count": 39,
      "outputs": [],
      "id": "1a60a64b"
    },
    {
      "cell_type": "code",
      "source": "#printing the value before and after balancing \nprint(y.value_counts())\nprint(y_bal.value_counts())",
      "metadata": {},
      "execution_count": 40,
      "outputs": [
        {
          "name": "stdout",
          "output_type": "stream",
          "text": "1    422\n\n0    192\n\nName: Loan_Status, dtype: int64\n\n1    371\n\n0    328\n\nName: Loan_Status, dtype: int64\n"
        }
      ],
      "id": "c657308c"
    },
    {
      "cell_type": "code",
      "source": "",
      "metadata": {},
      "execution_count": null,
      "outputs": [],
      "id": "77cf5943"
    }
  ]
}